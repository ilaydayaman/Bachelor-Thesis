{
  "nbformat": 4,
  "nbformat_minor": 0,
  "metadata": {
    "colab": {
      "name": "ML_course_project_v2.ipynb",
      "provenance": [],
      "collapsed_sections": [
        "2hkBlYlfuo5H"
      ],
      "include_colab_link": true
    },
    "kernelspec": {
      "display_name": "Python 3",
      "name": "python3"
    }
  },
  "cells": [
    {
      "cell_type": "markdown",
      "metadata": {
        "id": "view-in-github",
        "colab_type": "text"
      },
      "source": [
        "<a href=\"https://colab.research.google.com/github/ilaydayaman/Bachelor_Thesis/blob/master/ML_course_project_v2.ipynb\" target=\"_parent\"><img src=\"https://colab.research.google.com/assets/colab-badge.svg\" alt=\"Open In Colab\"/></a>"
      ]
    },
    {
      "cell_type": "markdown",
      "metadata": {
        "id": "kxyK9Nq3pQu-"
      },
      "source": [
        "# Import libraries"
      ]
    },
    {
      "cell_type": "code",
      "metadata": {
        "id": "eeud7XN2X7O1"
      },
      "source": [
        "# from google.colab import drive\n",
        "# drive.mount('/content/drive')"
      ],
      "execution_count": 1,
      "outputs": []
    },
    {
      "cell_type": "code",
      "metadata": {
        "id": "WOO-I3iwpXyc"
      },
      "source": [
        "import numpy as np\n",
        "import matplotlib.pyplot as plt"
      ],
      "execution_count": 2,
      "outputs": []
    },
    {
      "cell_type": "markdown",
      "metadata": {
        "id": "2hkBlYlfuo5H"
      },
      "source": [
        "# System information"
      ]
    },
    {
      "cell_type": "markdown",
      "metadata": {
        "id": "4MeQu6mWg-pS"
      },
      "source": [
        "GPU info"
      ]
    },
    {
      "cell_type": "code",
      "metadata": {
        "colab": {
          "base_uri": "https://localhost:8080/"
        },
        "id": "jsy8c_sPg3-5",
        "outputId": "d11672f7-93f3-4b95-ee0e-09bc2089a5ae"
      },
      "source": [
        "gpu_info = !nvidia-smi\n",
        "gpu_info = '\\n'.join(gpu_info)\n",
        "if gpu_info.find('failed') >= 0:\n",
        "  print('Select the Runtime → \"Change runtime type\" menu to enable a GPU accelerator, ')\n",
        "  print('and then re-execute this cell.')\n",
        "else:\n",
        "  print(gpu_info)"
      ],
      "execution_count": 3,
      "outputs": [
        {
          "output_type": "stream",
          "text": [
            "Select the Runtime → \"Change runtime type\" menu to enable a GPU accelerator, \n",
            "and then re-execute this cell.\n"
          ],
          "name": "stdout"
        }
      ]
    },
    {
      "cell_type": "markdown",
      "metadata": {
        "id": "nhp3aPAfhDMw"
      },
      "source": [
        "Memory info"
      ]
    },
    {
      "cell_type": "code",
      "metadata": {
        "colab": {
          "base_uri": "https://localhost:8080/"
        },
        "id": "GUotZU48hEoN",
        "outputId": "aed7bd76-1c55-4411-c8b8-134b9056bcab"
      },
      "source": [
        "from psutil import virtual_memory\n",
        "ram_gb = virtual_memory().total / 1e9\n",
        "print('Your runtime has {:.1f} gigabytes of available RAM\\n'.format(ram_gb))\n",
        "\n",
        "if ram_gb < 20:\n",
        "  print('To enable a high-RAM runtime, select the Runtime → \"Change runtime type\"')\n",
        "  print('menu, and then select High-RAM in the Runtime shape dropdown. Then, ')\n",
        "  print('re-execute this cell.')\n",
        "else:\n",
        "  print('You are using a high-RAM runtime!')"
      ],
      "execution_count": 4,
      "outputs": [
        {
          "output_type": "stream",
          "text": [
            "Your runtime has 13.6 gigabytes of available RAM\n",
            "\n",
            "To enable a high-RAM runtime, select the Runtime → \"Change runtime type\"\n",
            "menu, and then select High-RAM in the Runtime shape dropdown. Then, \n",
            "re-execute this cell.\n"
          ],
          "name": "stdout"
        }
      ]
    },
    {
      "cell_type": "markdown",
      "metadata": {
        "id": "sN42TQToZQ3R"
      },
      "source": [
        "# Import custom libraries"
      ]
    },
    {
      "cell_type": "code",
      "metadata": {
        "id": "gLRajopUtL3Y"
      },
      "source": [
        "#upload following files: classes.py, config.py, features.py, graphics.py, 0-weights.data, 0-weights.index\n",
        "from google.colab import files\n",
        "#files.upload()"
      ],
      "execution_count": 5,
      "outputs": []
    },
    {
      "cell_type": "code",
      "metadata": {
        "id": "YtJCf6eYRFPh"
      },
      "source": [
        "import config as cfg\n",
        "from classes import Scenario, LIS, Channel, Panel, Point\n",
        "from features import data_flatten, real_imag\n",
        "from graphics import plot_scenario, add_scatter, add_plot, save_plot"
      ],
      "execution_count": 6,
      "outputs": []
    },
    {
      "cell_type": "markdown",
      "metadata": {
        "id": "BYXzeu5AGNWt"
      },
      "source": [
        "# Test scenario and channel generation"
      ]
    },
    {
      "cell_type": "code",
      "metadata": {
        "id": "GHBqNOX5q3aO"
      },
      "source": [
        "# Test scenario and channel generation\n",
        "scenario = Scenario(cfg.WIDTH, cfg.HEIGHT, cfg.DEPTH)"
      ],
      "execution_count": 7,
      "outputs": []
    },
    {
      "cell_type": "markdown",
      "metadata": {
        "id": "pZ0-y3GGjMWn"
      },
      "source": [
        "LIS creation:"
      ]
    },
    {
      "cell_type": "code",
      "metadata": {
        "id": "zCbzg1cfjOez"
      },
      "source": [
        "# LIS creation:\n",
        "lis = LIS(scenario)\n",
        "scenario.LIS = lis"
      ],
      "execution_count": 8,
      "outputs": []
    },
    {
      "cell_type": "markdown",
      "metadata": {
        "id": "n2NM1mIlv1Cw"
      },
      "source": [
        "Add panel"
      ]
    },
    {
      "cell_type": "code",
      "metadata": {
        "id": "W7sex8opwBNx"
      },
      "source": [
        "# Points: (x,y,z)\n",
        "centre = Point(0, 0, 0)\n",
        "wall = 'bottom'\n",
        "panel = Panel(cfg.Mp, cfg.ant_dist, centre, wall, scenario)#wall is redundant (remove it later)\n",
        "lis.add_panel(panel)"
      ],
      "execution_count": 9,
      "outputs": []
    },
    {
      "cell_type": "code",
      "metadata": {
        "id": "NAVHYY5VzJX9",
        "colab": {
          "base_uri": "https://localhost:8080/"
        },
        "outputId": "3e029fe9-252a-45da-e14c-0cbe78554fc6"
      },
      "source": [
        "lis.info()"
      ],
      "execution_count": 10,
      "outputs": [
        {
          "output_type": "stream",
          "text": [
            "LIS structure summary:\n",
            "Number of panels: 1\n",
            "Panel 0:\n",
            "Panel summary:\n",
            "-Panel dimensions: (0.40 x 0.40) m\n",
            "-Panel elements: (8 x 8) = 64\n",
            "-Centre of the panel: (0.0, 0.0, 0.0)\n",
            "\n",
            "\n"
          ],
          "name": "stdout"
        }
      ]
    },
    {
      "cell_type": "markdown",
      "metadata": {
        "id": "lrsDxauFrBcA"
      },
      "source": [
        "Select positions for grid and users in the scenario:"
      ]
    },
    {
      "cell_type": "code",
      "metadata": {
        "id": "vDC3zL0ivkOX"
      },
      "source": [
        "# Generate positions in the scenario:\n",
        "scenario.gen_pos_test(cfg.n_pos_test, 'square')"
      ],
      "execution_count": 11,
      "outputs": []
    },
    {
      "cell_type": "code",
      "metadata": {
        "id": "I8PcBg-Fz0VC",
        "colab": {
          "base_uri": "https://localhost:8080/"
        },
        "outputId": "6811472c-33c2-423f-dc38-eefd72a2d008"
      },
      "source": [
        "scenario.info()"
      ],
      "execution_count": 12,
      "outputs": [
        {
          "output_type": "stream",
          "text": [
            "SCENARIO:\n",
            "width: 10.00 m\n",
            "depth: 10.00 m\n",
            "height: 3.00 m\n"
          ],
          "name": "stdout"
        }
      ]
    },
    {
      "cell_type": "code",
      "metadata": {
        "id": "IwJ8tckSqUsE",
        "colab": {
          "base_uri": "https://localhost:8080/"
        },
        "outputId": "6661a3a0-7a36-46ee-c6b7-6d467d633bb9"
      },
      "source": [
        "#  distance between locations\n",
        "dist = np.sqrt(np.sum(np.square(np.diff(scenario.pos_test, axis=0)), axis=1))\n",
        "print(\"distance between locations (m): \", dist[0])\n",
        "print(\"normalized mean distance between locations: \", dist[0]/cfg.wavelength)"
      ],
      "execution_count": 13,
      "outputs": [
        {
          "output_type": "stream",
          "text": [
            "distance between locations (m):  0.41025641025641013\n",
            "normalized mean distance between locations:  4.102564102564101\n"
          ],
          "name": "stdout"
        }
      ]
    },
    {
      "cell_type": "code",
      "metadata": {
        "colab": {
          "base_uri": "https://localhost:8080/",
          "height": 295
        },
        "id": "IDnd5s3M9jRP",
        "outputId": "be847d5d-ad2a-4ab8-a56d-f59f2841a366"
      },
      "source": [
        "plot_scenario(scenario)\n",
        "add_scatter(scenario.pos_test, 'rainbow', 2)\n",
        "save_plot(\"scenario.eps\")"
      ],
      "execution_count": 14,
      "outputs": [
        {
          "output_type": "display_data",
          "data": {
            "image/png": "[encoded data removed]",
            "text/plain": [
              "<Figure size 432x288 with 1 Axes>"
            ]
          },
          "metadata": {
            "needs_background": "light"
          }
        }
      ]
    },
    {
      "cell_type": "markdown",
      "metadata": {
        "id": "TiAzJ4OBluL5"
      },
      "source": [
        "Generate channel for the defined scenario:"
      ]
    },
    {
      "cell_type": "code",
      "metadata": {
        "id": "KHA-N_3krFf2"
      },
      "source": [
        "c = 3e8\n",
        "la = cfg.wavelength\n",
        "fc = c / la\n",
        "fv = np.linspace(fc - cfg.BW / 2, fc + cfg.BW / 2, num=cfg.Nsc)  # array of frequencies used by one user\n",
        "lav = c / fv  # array of wavelengths used by one user"
      ],
      "execution_count": 15,
      "outputs": []
    },
    {
      "cell_type": "code",
      "metadata": {
        "id": "n0xy5F7xJVho"
      },
      "source": [
        "# Compute channel for test set\n",
        "# Different noise seed in testing than in training\n",
        "cfg.noise_seed = 2\n",
        "ch = Channel(\n",
        "  lis=lis,\n",
        "  scenario=scenario,\n",
        "  ch_type=cfg.channel,\n",
        "  freq=fv,\n",
        "  noise_var=cfg.noise_var,\n",
        "  noise_seed=cfg.noise_seed,\n",
        "  ref_coe=cfg.ref_coe)"
      ],
      "execution_count": 16,
      "outputs": []
    },
    {
      "cell_type": "code",
      "metadata": {
        "id": "1z5zHyTr3dUF"
      },
      "source": [
        "# Test data\n",
        "Hp_t, snr_p_t = ch.model(scenario.pos_test)"
      ],
      "execution_count": 17,
      "outputs": []
    },
    {
      "cell_type": "code",
      "metadata": {
        "colab": {
          "base_uri": "https://localhost:8080/"
        },
        "id": "VY5hAvKnFD7A",
        "outputId": "e1197198-4ee6-4e53-8951-e9c312d1a2d7"
      },
      "source": [
        "print (\"-------Channel properties-------\")\n",
        "print (\"channel type: %.0f\" % cfg.channel)\n",
        "print (\"reflection coefficient: %.1f\" % cfg.ref_coe)\n",
        "print (\"noise variance: %.5f\" % cfg.noise_var)\n",
        "print (\"noise seed: %.0f\" % cfg.noise_seed)\n",
        "print (\"channel shape (training set): \", Hp_t.shape)"
      ],
      "execution_count": 18,
      "outputs": [
        {
          "output_type": "stream",
          "text": [
            "-------Channel properties-------\n",
            "channel type: 2\n",
            "reflection coefficient: 0.1\n",
            "noise variance: 0.00100\n",
            "noise seed: 2\n",
            "channel shape (training set):  (1, 40, 8, 8, 8)\n"
          ],
          "name": "stdout"
        }
      ]
    },
    {
      "cell_type": "markdown",
      "metadata": {
        "id": "CagtXaGuqyMr"
      },
      "source": [
        "Data preprocessing: Feature extraction"
      ]
    },
    {
      "cell_type": "code",
      "metadata": {
        "id": "JU_9_O0T3gDO"
      },
      "source": [
        "Fp_t = real_imag(Hp_t)\n",
        "Fp_t = data_flatten(Fp_t)\n",
        "test_data = Fp_t"
      ],
      "execution_count": 19,
      "outputs": []
    },
    {
      "cell_type": "code",
      "metadata": {
        "colab": {
          "base_uri": "https://localhost:8080/"
        },
        "id": "cMIgLx4J3uL9",
        "outputId": "47c24ca5-679b-4b13-ba6b-e8fc31daa225"
      },
      "source": [
        "print(\"--------Data ----------\")\n",
        "print(\"test_data.shape:\", test_data.shape)"
      ],
      "execution_count": 20,
      "outputs": [
        {
          "output_type": "stream",
          "text": [
            "--------Data ----------\n",
            "test_data.shape: (1, 40, 1024)\n"
          ],
          "name": "stdout"
        }
      ]
    },
    {
      "cell_type": "markdown",
      "metadata": {
        "id": "F2Cjpn8UUkAI"
      },
      "source": [
        "# Model (wireless sensor ML)"
      ]
    },
    {
      "cell_type": "code",
      "metadata": {
        "id": "ePJ8_QvthSNu",
        "colab": {
          "base_uri": "https://localhost:8080/"
        },
        "outputId": "88c3df37-c412-4b2d-a133-aadbb283732e"
      },
      "source": [
        "import tensorflow as tf\n",
        "import tensorflow_probability as tfp\n",
        "from tensorflow.keras.optimizers import Adam, RMSprop\n",
        "tfd = tfp.distributions\n",
        "tfpl = tfp.layers\n",
        "\n",
        "print(\"TF version:\", tf.__version__)\n",
        "print(\"TFP version:\", tfp.__version__)"
      ],
      "execution_count": 21,
      "outputs": [
        {
          "output_type": "stream",
          "text": [
            "TF version: 2.6.0\n",
            "TFP version: 0.13.0\n"
          ],
          "name": "stdout"
        }
      ]
    },
    {
      "cell_type": "markdown",
      "metadata": {
        "id": "KbD4wme5tRCr"
      },
      "source": [
        "Model"
      ]
    },
    {
      "cell_type": "code",
      "metadata": {
        "id": "H5Drju2B4qF1"
      },
      "source": [
        "from tensorflow.keras.models import Sequential\n",
        "from tensorflow.keras.layers import Dense, Flatten, BatchNormalization, Dropout, Conv3D\n",
        "\n",
        "#event_shape: number of dimensions in the event space (event_shape=2)\n",
        "def dnn_model_bayes_aleatoric(event_shape):\n",
        "  # Create model.\n",
        "  model = Sequential([\n",
        "      Dense(200, activation='relu'),\n",
        "      Dropout(0.2),\n",
        "      BatchNormalization(),\n",
        "      Dense(100, activation='relu'),\n",
        "      Dropout(0.2),\n",
        "      Dense(20, activation='relu'),\n",
        "      Dense(tfpl.MultivariateNormalTriL.params_size(event_shape)),\n",
        "      tfpl.MultivariateNormalTriL(event_shape)\n",
        "  ])\n",
        "  return model"
      ],
      "execution_count": 22,
      "outputs": []
    },
    {
      "cell_type": "markdown",
      "metadata": {
        "id": "kH1a6F3Ft4ZD"
      },
      "source": [
        "Load weights model"
      ]
    },
    {
      "cell_type": "code",
      "metadata": {
        "colab": {
          "base_uri": "https://localhost:8080/"
        },
        "id": "8Yygc7Rmj9Bl",
        "outputId": "95944799-6383-4a78-cea4-8cc0773d0fc7"
      },
      "source": [
        "p = 0  # panel index\n",
        "n_dim = 2  # number of dimensions of the location (x,y)\n",
        "model = dnn_model_bayes_aleatoric(n_dim)\n",
        "model.load_weights('%d-weights'%p)"
      ],
      "execution_count": 23,
      "outputs": [
        {
          "output_type": "execute_result",
          "data": {
            "text/plain": [
              "<tensorflow.python.training.tracking.util.CheckpointLoadStatus at 0x7fc284ddd390>"
            ]
          },
          "metadata": {},
          "execution_count": 23
        }
      ]
    },
    {
      "cell_type": "markdown",
      "metadata": {
        "id": "D5DLy2KzscxQ"
      },
      "source": [
        "# Inference and visualization"
      ]
    },
    {
      "cell_type": "code",
      "metadata": {
        "id": "Lb9BNhialXLE"
      },
      "source": [
        "#This function plots confident intervals (or ellipses in Gaussian distribution) for the input pdf, and probability prb.\n",
        "#The pdf argument can be a batch of pdfs, one per location\n",
        "#With step we can skip locations. Useful for visualization.\n",
        "def plot_confident_interval(pdf, prb, step=1):\n",
        "  x_est = pdf.mean()\n",
        "  x_std = pdf.stddev()\n",
        "  #\n",
        "  #prb=0.8  # x% confident level 2D normal distribution\n",
        "  # B. Wang: \"Confidence Analysis of Standard Deviational Ellipse and Its Extension into Higher Dimensional Euclidean Space\"\n",
        "  times_sigma = np.sqrt(-2*np.log(1-prb))\n",
        "  confident_level = 1./(2*np.pi*tf.math.reduce_prod(x_std,axis=1))*np.exp(-0.5*times_sigma**2)\n",
        "  #\n",
        "  x = np.arange(-scenario.width/2.0, scenario.width/2.0, 0.1)\n",
        "  y = np.arange(0.0, scenario.depth, 0.1)\n",
        "  X, Y = np.meshgrid(x, y)\n",
        "  s = np.shape(X)\n",
        "\n",
        "  Xf, Yf = X.flatten(), Y.flatten()\n",
        "  D = np.zeros((np.product(s),2))\n",
        "  #the prob model expects a format like: (depth, width)\n",
        "  D[:,1] = Xf\n",
        "  D[:,0] = Yf\n",
        "  #\n",
        "  plot_scenario(scenario)\n",
        "  De = D[:,np.newaxis,:]  # broadcasting to batch axis: (samples, batch, event) = (10000, 1, 2)\n",
        "  Zf = pdf.prob(De)  # Zf.shape = (10000, n_test)\n",
        "  #print(Zf.shape)\n",
        "  Z = tf.reshape(Zf, np.append(s,scenario.n_test))  # Zf.shape = (100, 100, n_test)\n",
        "  for n in range(0,scenario.n_test,step):\n",
        "    plt.contour(X,Y,Z[:,:,n],[confident_level[n]])\n",
        "\n",
        "  #n=0\n",
        "  #plt.contour(X,Y,Z[:,:,n],[confident_level[n]])\n",
        "\n",
        "  add_scatter(x_est[::step], 'blue', 10)\n",
        "  add_scatter(scenario.pos_test[::step], 'red', 10)\n",
        "  #add_scatter(x_est[tf.newaxis,n].numpy(), 'blue', 10)\n",
        "  #add_scatter(scenario.pos_test[tf.newaxis,n], 'red', 10)\n",
        "\n",
        "  #save_plot('dnn_model_bayes_aleatoric_prb08_p%s.pdf'%p)"
      ],
      "execution_count": 24,
      "outputs": []
    },
    {
      "cell_type": "markdown",
      "metadata": {
        "id": "5-0k5Uw-67lg"
      },
      "source": [
        "Inference"
      ]
    },
    {
      "cell_type": "code",
      "metadata": {
        "id": "2bThme4dmn7B"
      },
      "source": [
        "p = 0  # panel index\n",
        "csi = test_data[p,:]\n",
        "#print(csi.shape)\n",
        "pdf_sensor = model(csi)  # inference: one pdf per test point"
      ],
      "execution_count": 25,
      "outputs": []
    },
    {
      "cell_type": "markdown",
      "metadata": {
        "id": "g9wPWIhsmtOS"
      },
      "source": [
        "Plot confident intervals (ellipses)"
      ]
    },
    {
      "cell_type": "code",
      "metadata": {
        "id": "kOmtXar1mrsU",
        "colab": {
          "base_uri": "https://localhost:8080/",
          "height": 295
        },
        "outputId": "3bfce89e-0f4d-4cfd-cb4a-f83ae4040bcc"
      },
      "source": [
        "prb = 0.8  # x% confident level 2D normal distribution\n",
        "plot_confident_interval(pdf_sensor, prb)\n",
        "#save_plot('dnn_model_bayes_aleatoric_prb08_p%s.pdf'%p)"
      ],
      "execution_count": 26,
      "outputs": [
        {
          "output_type": "display_data",
          "data": {
            "image/png": "[encoded data removed]",
            "text/plain": [
              "<Figure size 432x288 with 1 Axes>"
            ]
          },
          "metadata": {
            "needs_background": "light"
          }
        }
      ]
    },
    {
      "cell_type": "markdown",
      "metadata": {
        "id": "6lXlP6kJsBUD"
      },
      "source": [
        "# Error analysis"
      ]
    },
    {
      "cell_type": "code",
      "metadata": {
        "id": "l0mY-fU10xGw"
      },
      "source": [
        "pos_est = pdf_sensor.mean()  # point estimate\n",
        "#print(pos_est.shape)"
      ],
      "execution_count": 27,
      "outputs": []
    },
    {
      "cell_type": "code",
      "metadata": {
        "colab": {
          "base_uri": "https://localhost:8080/"
        },
        "id": "bwrO7I62GfXY",
        "outputId": "8491c878-d3ac-4966-d775-740ba80ccafd"
      },
      "source": [
        "de = np.linalg.norm(pos_est - scenario.pos_test, axis=1)\n",
        "MDE = np.mean(de)\n",
        "SDE = np.std(de)\n",
        "print(\"MDE =\", MDE, \"m\")\n",
        "print(\"SDE =\", SDE, \"m\")"
      ],
      "execution_count": 28,
      "outputs": [
        {
          "output_type": "stream",
          "text": [
            "MDE = 0.21136215 m\n",
            "SDE = 0.14419436 m\n"
          ],
          "name": "stdout"
        }
      ]
    },
    {
      "cell_type": "code",
      "metadata": {
        "id": "GaWdNeDs_O-T",
        "colab": {
          "base_uri": "https://localhost:8080/",
          "height": 295
        },
        "outputId": "7f47cb55-9222-4016-e4aa-8c376c7d6130"
      },
      "source": [
        "plot_scenario(scenario)\n",
        "add_scatter(pos_est, 'rainbow', 2)\n",
        "add_scatter(scenario.pos_test, 'grey', 1)\n",
        "save_plot(\"estimation.pdf\")"
      ],
      "execution_count": 29,
      "outputs": [
        {
          "output_type": "display_data",
          "data": {
            "image/png": "[encoded data removed]",
            "text/plain": [
              "<Figure size 432x288 with 1 Axes>"
            ]
          },
          "metadata": {
            "needs_background": "light"
          }
        }
      ]
    },
    {
      "cell_type": "markdown",
      "metadata": {
        "id": "tR4CU82ZsUlH"
      },
      "source": [
        "# Tracking"
      ]
    },
    {
      "cell_type": "code",
      "metadata": {
        "colab": {
          "base_uri": "https://localhost:8080/"
        },
        "id": "8lMYWqAKQU3o",
        "outputId": "7c575aa7-030d-48d2-9a2a-ab370b503357"
      },
      "source": [
        "!git clone --depth=1 https://github.com/rlabbe/Kalman-and-Bayesian-Filters-in-Python.git\n",
        "!pip install filterpy"
      ],
      "execution_count": 30,
      "outputs": [
        {
          "output_type": "stream",
          "text": [
            "fatal: destination path 'Kalman-and-Bayesian-Filters-in-Python' already exists and is not an empty directory.\n",
            "Requirement already satisfied: filterpy in /usr/local/lib/python3.7/dist-packages (1.4.5)\n",
            "Requirement already satisfied: numpy in /usr/local/lib/python3.7/dist-packages (from filterpy) (1.19.5)\n",
            "Requirement already satisfied: scipy in /usr/local/lib/python3.7/dist-packages (from filterpy) (1.4.1)\n",
            "Requirement already satisfied: matplotlib in /usr/local/lib/python3.7/dist-packages (from filterpy) (3.2.2)\n",
            "Requirement already satisfied: kiwisolver>=1.0.1 in /usr/local/lib/python3.7/dist-packages (from matplotlib->filterpy) (1.3.1)\n",
            "Requirement already satisfied: python-dateutil>=2.1 in /usr/local/lib/python3.7/dist-packages (from matplotlib->filterpy) (2.8.2)\n",
            "Requirement already satisfied: cycler>=0.10 in /usr/local/lib/python3.7/dist-packages (from matplotlib->filterpy) (0.10.0)\n",
            "Requirement already satisfied: pyparsing!=2.0.4,!=2.1.2,!=2.1.6,>=2.0.1 in /usr/local/lib/python3.7/dist-packages (from matplotlib->filterpy) (2.4.7)\n",
            "Requirement already satisfied: six in /usr/local/lib/python3.7/dist-packages (from cycler>=0.10->matplotlib->filterpy) (1.15.0)\n"
          ],
          "name": "stdout"
        }
      ]
    },
    {
      "cell_type": "code",
      "metadata": {
        "id": "dq87FPaqcXTt"
      },
      "source": [
        "from filterpy.kalman import KalmanFilter as kf \n",
        "from scipy.linalg import block_diag\n",
        "from filterpy.common import Q_discrete_white_noise\n",
        "from book_plots import plot_measurements\n",
        "from filterpy.stats import plot_covariance\n",
        "from book_plots import plot_filter"
      ],
      "execution_count": 31,
      "outputs": []
    },
    {
      "cell_type": "markdown",
      "metadata": {
        "id": "YawBM3GBJlNj"
      },
      "source": [
        "Initialize the Kalman Filter "
      ]
    },
    {
      "cell_type": "code",
      "metadata": {
        "id": "fbGFR3KTtWLx"
      },
      "source": [
        "n_dim = 2  # num. dimensions = 2\n",
        "x = np.zeros((2*n_dim,1))  # Kalman initial state\n",
        "#P = ...  # initial state covariance\n",
        "#Q = ...  # process covariance (constant?)\n",
        "zs = []\n",
        "Rs = []\n",
        "for n in range(scenario.n_test):\n",
        "  #  current location (ground truth)\n",
        "  csi = test_data[0,n]  # wireless channel for current location\n",
        "  csi = csi[np.newaxis,:]  # add extra dimension for compatibility\n",
        "  #---------Wireless sensor reading----------\n",
        "  pdf_n = model(csi)  # inference: pdf as output of wireless sensor for location index n (pdf as TFP distribution)\n",
        "  z = pdf_n.mean()[0].numpy()  # measurement mean (sensor) (depth, width) (y, x)\n",
        "  R = pdf_n.covariance()[0].numpy()  # measurement error covariance (sensor)\n",
        "  #----------store results------------------\n",
        "  #zs = np.append(zs, z, axis=0)\n",
        "  zs.append(z)\n",
        "  Rs.append(R) #, R, axis=1"
      ],
      "execution_count": 32,
      "outputs": []
    },
    {
      "cell_type": "code",
      "metadata": {
        "id": "S185YfoiK8c3"
      },
      "source": [
        "Q_std = 0.1\n",
        "init_pos = pdf_n.mean()[0].numpy() "
      ],
      "execution_count": 33,
      "outputs": []
    },
    {
      "cell_type": "markdown",
      "metadata": {
        "id": "q_7G83KxDxvv"
      },
      "source": [
        "Initialize x with sensor measurements "
      ]
    },
    {
      "cell_type": "code",
      "metadata": {
        "id": "1LXaXvAmRaHt"
      },
      "source": [
        "def trackerFunc():\n",
        "    tracker = kf(dim_x=4, dim_z=2)\n",
        "    dt = 1.0  # time step 1s\n",
        "\n",
        "    # State transition matrix\n",
        "    tracker.F = np.array([[1, dt, 0, 0],\n",
        "                          [0, 1, 0, 0],\n",
        "                          [0, 0, 1, dt],\n",
        "                          [0, 0, 0, 1]])\n",
        "\n",
        "    # process noise is discrete time Weiner process (constant for each time period)\n",
        "    q = Q_discrete_white_noise(dim=2, dt=dt, var=Q_std**2)\n",
        "    tracker.Q = block_diag(q, q)\n",
        "\n",
        "    # measurement function \n",
        "    tracker.H = np.array([[1, 0, 0, 0],\n",
        "                          [0, 0, 1, 0]])\n",
        "    \n",
        "    # measurement noise \n",
        "    tracker.R = pdf_n.covariance()[0].numpy() # np.eye(2) * R_std**2\n",
        "\n",
        "    # initial value for the state (position and velocity)\n",
        "    tracker.x = np.array([[init_pos[0], init_pos[1], 0, 0]]).T\n",
        "\n",
        "    # Covariance matrix P \n",
        "    tracker.P = np.eye(4) * 5.\n",
        "    return tracker"
      ],
      "execution_count": 34,
      "outputs": []
    },
    {
      "cell_type": "markdown",
      "metadata": {
        "id": "iNkPNFGQT_2z"
      },
      "source": [
        "Run the filter "
      ]
    },
    {
      "cell_type": "code",
      "metadata": {
        "id": "0SH75nsyUDgt"
      },
      "source": [
        "zs = np.reshape(zs, (n+1,2))\n",
        "robot_tracker = trackerFunc()\n",
        "mu, cov, _, _ = robot_tracker.batch_filter(zs=zs, Rs=Rs)"
      ],
      "execution_count": 35,
      "outputs": []
    },
    {
      "cell_type": "code",
      "metadata": {
        "id": "8w6bO1oaSCyu",
        "colab": {
          "base_uri": "https://localhost:8080/",
          "height": 282
        },
        "outputId": "bf154f0b-61ab-4b94-939e-579b2aa668e4"
      },
      "source": [
        "for x, mP in zip(mu, cov):\n",
        "   # covariance of x and y\n",
        "    cov = np.array([[robot_tracker.P[0, 0], robot_tracker.P[2, 0]],\n",
        "                    [robot_tracker.P[0, 2], robot_tracker.P[2, 2]]])\n",
        "    mean = (x[0, 0], x[2, 0])\n",
        "    plot_covariance(mean, cov=cov, fc='g', std=3, alpha=0.5)\n",
        "  \n",
        "\n",
        "# the figure should be transposed but it still gives the idea with sizes of ellipses etc. \n",
        "plot_filter(mu[:, 0], mu[:, 2]) # blue line\n",
        "plot_measurements(scenario.pos_test[:, 0], scenario.pos_test[:, 1]) # black dots "
      ],
      "execution_count": 36,
      "outputs": [
        {
          "output_type": "execute_result",
          "data": {
            "text/plain": [
              "(<matplotlib.collections.PathCollection at 0x7fc27520bed0>,)"
            ]
          },
          "metadata": {},
          "execution_count": 36
        },
        {
          "output_type": "display_data",
          "data": {
            "image/png": "[encoded data removed]",
            "text/plain": [
              "<Figure size 432x288 with 1 Axes>"
            ]
          },
          "metadata": {
            "needs_background": "light"
          }
        }
      ]
    },
    {
      "cell_type": "markdown",
      "metadata": {
        "id": "FPXWC-XBUKTi"
      },
      "source": [
        "Plot Results "
      ]
    },
    {
      "cell_type": "code",
      "metadata": {
        "colab": {
          "base_uri": "https://localhost:8080/",
          "height": 295
        },
        "id": "3Xs-12NhT3Bz",
        "outputId": "f443a2ac-dd32-4e6f-ec37-1f705093be17"
      },
      "source": [
        "pos_est_KF = np.zeros((len(mu),2))\n",
        "pos_est_KF = np.concatenate((mu[:, 0], mu[:, 2]), axis=1)\n",
        "\n",
        "plot_scenario(scenario)\n",
        "add_scatter(scenario.pos_test, 'grey', 1)\n",
        "add_scatter(pos_est_KF, 'rainbow', 2)\n",
        "save_plot(\"est_result_after_KF.eps\")"
      ],
      "execution_count": 37,
      "outputs": [
        {
          "output_type": "display_data",
          "data": {
            "image/png": "[encoded data removed]",
            "text/plain": [
              "<Figure size 432x288 with 1 Axes>"
            ]
          },
          "metadata": {
            "needs_background": "light"
          }
        }
      ]
    },
    {
      "cell_type": "markdown",
      "metadata": {
        "id": "3cdVeKfCbuVQ"
      },
      "source": [
        "Calculate MDE & SDE and plot the distance error before and after the Kalman filter"
      ]
    },
    {
      "cell_type": "code",
      "metadata": {
        "colab": {
          "base_uri": "https://localhost:8080/"
        },
        "id": "o2loT6oqF56O",
        "outputId": "79d19881-e32a-45d4-df64-e25fe36a256e"
      },
      "source": [
        "de_KF = np.linalg.norm(pos_est_KF - scenario.pos_test, axis=1)\n",
        "MDE_KF = np.mean(de_KF) #mean distance errror\n",
        "SDE_KF = np.std(de_KF) #standard deviation error \n",
        "print(\"MDE =\", MDE_KF, \"m\")\n",
        "print(\"SDE =\", SDE_KF, \"m\")"
      ],
      "execution_count": 38,
      "outputs": [
        {
          "output_type": "stream",
          "text": [
            "MDE = 0.16476940136422188 m\n",
            "SDE = 0.13619071091842022 m\n"
          ],
          "name": "stdout"
        }
      ]
    },
    {
      "cell_type": "code",
      "metadata": {
        "colab": {
          "base_uri": "https://localhost:8080/",
          "height": 282
        },
        "id": "O9gcilZwbaJU",
        "outputId": "74069a16-2ed2-420e-acdd-ea3bdb764a6e"
      },
      "source": [
        "# red line represents the distance error after Kalman filter \n",
        "plt.plot(de_KF, 'r', de)\n",
        "plt.ylabel('distance error(m)')"
      ],
      "execution_count": 39,
      "outputs": [
        {
          "output_type": "execute_result",
          "data": {
            "text/plain": [
              "Text(0, 0.5, 'distance error(m)')"
            ]
          },
          "metadata": {},
          "execution_count": 39
        },
        {
          "output_type": "display_data",
          "data": {
            "image/png": "[encoded data removed]",
            "text/plain": [
              "<Figure size 432x288 with 1 Axes>"
            ]
          },
          "metadata": {
            "needs_background": "light"
          }
        }
      ]
    }
  ]
}